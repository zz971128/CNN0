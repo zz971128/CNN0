{
 "cells": [
  {
   "cell_type": "code",
   "execution_count": null,
   "metadata": {},
   "outputs": [],
   "source": [
    "import numpy as np\n",
    "import pandas as pd\n",
    "import csv\n",
    "import scipy.io\n",
    "import os"
   ]
  },
  {
   "cell_type": "code",
   "execution_count": null,
   "metadata": {},
   "outputs": [],
   "source": [
    "\n",
    "\n",
    "def sample_preprocessing(data):\n",
    "    # TODO: Do some fancy pre-process\n",
    "    # Write your code here\n",
    "    \"\"\"\n",
    "    pre-process your data\n",
    "    :param data:\n",
    "    :return:\n",
    "    \"\"\"\n",
    "    return data"
   ]
  },
  {
   "cell_type": "code",
   "execution_count": null,
   "metadata": {},
   "outputs": [],
   "source": [
    "# Prepare data for training\n",
    "# Read csv file to record file list\n",
    "csv_reader = csv.reader(open(\"./data/train_data.csv\")) \n",
    "# Set training data directory\n",
    "train_dir = './data/train/'\n",
    "#train_without_preprocess_dir = './data_without_preprocess/'\n",
    "if not os.path.exists(train_dir):\n",
    "    os.makedirs(train_dir)\n",
    "#if not os.path.exists(train_without_preprocess_dir):\n",
    " #   os.makedirs(train_without_preprocess_dir)\n",
    "\n",
    "# Read csv file by rows\n",
    "for row in csv_reader:\n",
    "    filename = row[0]\n",
    "    label_name = row[1]\n",
    "\n",
    "    # Convert label from str to int\n",
    "    if label_name == 'N':\n",
    "        label = 1\n",
    "    elif label_name == 'A':\n",
    "        label = 0\n",
    "    else:\n",
    "        print('Unrecognizable label')\n",
    "        continue\n",
    "    # Read original data\n",
    "    record = './ori_data/training2017/' + filename\n",
    "    # Read waveform samples (input is in WFDB-MAT format)\n",
    "    mat_data = scipy.io.loadmat(record + \".mat\")\n",
    "    samples = mat_data['val']\n",
    "    samples = samples[0, :]\n",
    "    # preprocessing\n",
    "    # TODO: Use given function to preprocess data \n",
    "    new_samples = sample_preprocessing(samples)\n",
    "    # Save data\n",
    "    save_filename = os.path.join(train_dir, filename + '.mat')\n",
    "    scipy.io.savemat(save_filename, {'value': new_samples, 'label': label})\n",
    "    #save_filename = os.path.join(train_without_preprocess_dir, filename + '.mat')\n",
    "    #scipy.io.savemat(save_filename, {'value': samples, 'label': label})\n"
   ]
  },
  {
   "cell_type": "code",
   "execution_count": null,
   "metadata": {},
   "outputs": [],
   "source": [
    "# Prepare data for testing\n",
    "csv_reader = csv.reader(open(\"./data/test_data.csv\")) # Read csv file to record file list\n",
    "test_dir = './data/test/'\n",
    "#test_without_preprocess_dir = './data_without_preprocess/'\n",
    "if not os.path.exists(test_dir):\n",
    "    os.makedirs(test_dir)\n",
    "#if not os.path.exists(test_without_preprocess_dir):\n",
    " #   os.makedirs(test_without_preprocess_dir)\n",
    "for row in csv_reader:\n",
    "    filename = row[0]\n",
    "    label_name = row[1]\n",
    "    if label_name == 'N':\n",
    "        label = 1\n",
    "    elif label_name == 'A':\n",
    "        label = 0\n",
    "    else:\n",
    "        print('Unrecognizable label ', label_name)\n",
    "        continue\n",
    "    record = './ori_data/training2017/' + filename\n",
    "    # Read waveform samples (input is in WFDB-MAT format)\n",
    "    mat_data = scipy.io.loadmat(record + \".mat\")\n",
    "    samples = mat_data['val']\n",
    "    samples = samples[0, :]\n",
    "    # preprocessing\n",
    "    # TODO: Use given function to preprocess data \n",
    "    new_samples = sample_preprocessing(samples)\n",
    "    # Save data\n",
    "    save_filename = os.path.join(test_dir, filename + '.mat')\n",
    "    scipy.io.savemat(save_filename, {'value': new_samples, 'label': label})\n",
    "    #save_filename = os.path.join(test_without_preprocess_dir, filename + '.mat')\n",
    "    #scipy.io.savemat(save_filename, {'value': samples, 'label': label})\n"
   ]
  }
 ],
 "metadata": {
  "interpreter": {
   "hash": "79495757624adbb2ec94ee769202e9d295b98634352b3931ea30316c5ea35353"
  },
  "kernelspec": {
   "display_name": "Python 3.7.0 64-bit ('pujin': conda)",
   "name": "python3"
  },
  "language_info": {
   "codemirror_mode": {
    "name": "ipython",
    "version": 3
   },
   "file_extension": ".py",
   "mimetype": "text/x-python",
   "name": "python",
   "nbconvert_exporter": "python",
   "pygments_lexer": "ipython3",
   "version": "3.7.0"
  },
  "orig_nbformat": 4
 },
 "nbformat": 4,
 "nbformat_minor": 2
}
